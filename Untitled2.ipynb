{
  "nbformat": 4,
  "nbformat_minor": 0,
  "metadata": {
    "colab": {
      "provenance": [],
      "collapsed_sections": []
    },
    "kernelspec": {
      "name": "python3",
      "display_name": "Python 3"
    },
    "language_info": {
      "name": "python"
    }
  },
  "cells": [
    {
      "cell_type": "markdown",
      "source": [
        "Read csv file"
      ],
      "metadata": {
        "id": "XAPcj-BSAzaz"
      }
    },
    {
      "cell_type": "code",
      "execution_count": 55,
      "metadata": {
        "id": "9mdAk0o8_jzB",
        "colab": {
          "base_uri": "https://localhost:8080/"
        },
        "outputId": "7a2b2d3d-b2e4-4b1e-c266-289082fbd2e8"
      },
      "outputs": [
        {
          "output_type": "stream",
          "name": "stdout",
          "text": [
            "     gender race/ethnicity parental level of education         lunch  \\\n",
            "0    female        group B           bachelor's degree      standard   \n",
            "1    female        group C                some college      standard   \n",
            "2    female        group B             master's degree      standard   \n",
            "3      male        group A          associate's degree  free/reduced   \n",
            "4      male        group C                some college      standard   \n",
            "..      ...            ...                         ...           ...   \n",
            "995  female        group E             master's degree      standard   \n",
            "996    male        group C                 high school  free/reduced   \n",
            "997  female        group C                 high school  free/reduced   \n",
            "998  female        group D                some college      standard   \n",
            "999  female        group D                some college  free/reduced   \n",
            "\n",
            "    test preparation course  math score  reading score  writing score  \n",
            "0                      none          72             72             74  \n",
            "1                 completed          69             90             88  \n",
            "2                      none          90             95             93  \n",
            "3                      none          47             57             44  \n",
            "4                      none          76             78             75  \n",
            "..                      ...         ...            ...            ...  \n",
            "995               completed          88             99             95  \n",
            "996                    none          62             55             55  \n",
            "997               completed          59             71             65  \n",
            "998               completed          68             78             77  \n",
            "999                    none          77             86             86  \n",
            "\n",
            "[1000 rows x 8 columns]\n"
          ]
        }
      ],
      "source": [
        "import numpy as np\n",
        "import pandas as pd\n",
        "import matplotlib.pyplot as plt\n",
        "import seaborn as sns\n",
        "from sklearn import preprocessing\n",
        "a=pd.read_csv(\"StudentsPerformance.csv\")\n",
        "print(a)\n",
        "\n",
        "\n"
      ]
    },
    {
      "cell_type": "markdown",
      "source": [
        "determine data type of a column"
      ],
      "metadata": {
        "id": "YQ9bVY0wAyKq"
      }
    },
    {
      "cell_type": "code",
      "source": [
        "\n",
        "print(a[\"gender\"].dtypes)\n"
      ],
      "metadata": {
        "id": "J7yzLq9EBA9A"
      },
      "execution_count": null,
      "outputs": []
    },
    {
      "cell_type": "code",
      "source": [
        "a.dtypes"
      ],
      "metadata": {
        "id": "h6jB8C-vE8hV"
      },
      "execution_count": null,
      "outputs": []
    },
    {
      "cell_type": "code",
      "source": [
        "dttypes=a.select_dtypes(include=[\"object\"])\n",
        "print(dttypes)"
      ],
      "metadata": {
        "id": "E3_svJ2V8tuI"
      },
      "execution_count": null,
      "outputs": []
    },
    {
      "cell_type": "markdown",
      "source": [
        "Data cleaning\n"
      ],
      "metadata": {
        "id": "eRDcY68O-geZ"
      }
    },
    {
      "cell_type": "code",
      "source": [
        "a.drop(\"race/ethnicity\",axis=1)"
      ],
      "metadata": {
        "id": "iWHc-1uw-ihG"
      },
      "execution_count": null,
      "outputs": []
    },
    {
      "cell_type": "markdown",
      "source": [
        "Data labelling"
      ],
      "metadata": {
        "id": "8NzUE5CvD5By"
      }
    },
    {
      "cell_type": "code",
      "source": [
        "dttypes=a.select_dtypes(include=[\"object\"])\n",
        "lbl=preprocessing.LabelEncoder()\n",
        "for i in range(dttypes.shape[1]):\n",
        "    dttypes.iloc[:,i]=lbl.fit_transform(dttypes.iloc[:,i])\n",
        "print(dttypes)"
      ],
      "metadata": {
        "id": "NDO98qzMD6fQ"
      },
      "execution_count": null,
      "outputs": []
    },
    {
      "cell_type": "markdown",
      "source": [
        "follow:concat"
      ],
      "metadata": {
        "id": "1NPl5SNWJuR1"
      }
    },
    {
      "cell_type": "code",
      "source": [
        "ttpes=a.select_dtypes(exclude=[\"object\"])\n",
        "cnc=pd.concat([ttpes,dttypes],axis=1)\n",
        "print(cnc)"
      ],
      "metadata": {
        "id": "8EsCZ04JJxor"
      },
      "execution_count": null,
      "outputs": []
    },
    {
      "cell_type": "markdown",
      "source": [
        "unique elements"
      ],
      "metadata": {
        "id": "EJnfGDwUDDza"
      }
    },
    {
      "cell_type": "code",
      "source": [
        "a.nunique()"
      ],
      "metadata": {
        "colab": {
          "base_uri": "https://localhost:8080/"
        },
        "id": "x2GcWwqCDNGP",
        "outputId": "bf487a0a-9888-43b3-a10c-0eaf48ea8e62"
      },
      "execution_count": 23,
      "outputs": [
        {
          "output_type": "execute_result",
          "data": {
            "text/plain": [
              "gender                          2\n",
              "race/ethnicity                  5\n",
              "parental level of education     6\n",
              "lunch                           2\n",
              "test preparation course         2\n",
              "math score                     81\n",
              "reading score                  72\n",
              "writing score                  77\n",
              "dtype: int64"
            ]
          },
          "metadata": {},
          "execution_count": 23
        }
      ]
    },
    {
      "cell_type": "code",
      "source": [
        "a[\"gender\"].unique()"
      ],
      "metadata": {
        "colab": {
          "base_uri": "https://localhost:8080/"
        },
        "id": "ovZYG4d1EGgw",
        "outputId": "73d8a5f3-5ed4-485f-856d-52ce107ef0e5"
      },
      "execution_count": 24,
      "outputs": [
        {
          "output_type": "execute_result",
          "data": {
            "text/plain": [
              "array(['female', 'male'], dtype=object)"
            ]
          },
          "metadata": {},
          "execution_count": 24
        }
      ]
    },
    {
      "cell_type": "markdown",
      "source": [
        "checking null values\n"
      ],
      "metadata": {
        "id": "dHRKL9Af51QK"
      }
    },
    {
      "cell_type": "code",
      "source": [
        "a.isnull().sum()"
      ],
      "metadata": {
        "id": "wvf-LomR5379"
      },
      "execution_count": null,
      "outputs": []
    },
    {
      "cell_type": "markdown",
      "source": [
        "Relation between data"
      ],
      "metadata": {
        "id": "rGXBCl8NOd3Z"
      }
    },
    {
      "cell_type": "code",
      "source": [
        "\n",
        "\n",
        "plt.scatter(a[\"math score\"],a[\"gender\"],color=\"red\")\n",
        "plt.show()"
      ],
      "metadata": {
        "colab": {
          "base_uri": "https://localhost:8080/",
          "height": 265
        },
        "id": "6gMbgtCROhtF",
        "outputId": "44c186cf-75ec-4391-9002-04addb9ab08c"
      },
      "execution_count": 67,
      "outputs": [
        {
          "output_type": "display_data",
          "data": {
            "text/plain": [
              "<Figure size 432x288 with 1 Axes>"
            ],
            "image/png": "[encoded data removed]"
          },
          "metadata": {
            "needs_background": "light"
          }
        }
      ]
    },
    {
      "cell_type": "markdown",
      "source": [
        "Relation between data"
      ],
      "metadata": {
        "id": "dJIJ60pqk9Gt"
      }
    },
    {
      "cell_type": "code",
      "source": [
        "z=a.corr()\n",
        "sns.heatmap(z,annot=True)\n",
        "print(z)"
      ],
      "metadata": {
        "colab": {
          "base_uri": "https://localhost:8080/",
          "height": 338
        },
        "id": "Rdv0Z5Sqk8IA",
        "outputId": "01c2b65a-90a4-439f-d639-9bdcaf27e8e5"
      },
      "execution_count": 68,
      "outputs": [
        {
          "output_type": "stream",
          "name": "stdout",
          "text": [
            "               math score  reading score  writing score\n",
            "math score       1.000000       0.817580       0.802642\n",
            "reading score    0.817580       1.000000       0.954598\n",
            "writing score    0.802642       0.954598       1.000000\n"
          ]
        },
        {
          "output_type": "display_data",
          "data": {
            "text/plain": [
              "<Figure size 432x288 with 2 Axes>"
            ],
            "image/png": "[encoded data removed]"
          },
          "metadata": {
            "needs_background": "light"
          }
        }
      ]
    },
    {
      "cell_type": "code",
      "source": [],
      "metadata": {
        "id": "nosnm67t7ZQW"
      },
      "execution_count": null,
      "outputs": []
    }
  ]
}